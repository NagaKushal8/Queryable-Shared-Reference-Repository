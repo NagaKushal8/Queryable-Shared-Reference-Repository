{
 "cells": [
  {
   "cell_type": "code",
   "execution_count": 5,
   "id": "feeac709-f3d8-4e50-94a7-90e6df832a00",
   "metadata": {},
   "outputs": [],
   "source": [
    "import os\n",
    "from collections import Counter\n",
    "from pathlib import Path\n",
    "import pandas as pd"
   ]
  },
  {
   "cell_type": "code",
   "execution_count": 25,
   "id": "985a7484-0dd7-4e02-8d45-f52f1893cd54",
   "metadata": {},
   "outputs": [],
   "source": [
    "raw_data_path = '../raw_data/'\n",
    "raw_data_dir_names = ['ethan', 'sai']\n",
    "raw_data_dirs = [raw_data_path+raw_data_dir_name for raw_data_dir_name in raw_data_dir_names]"
   ]
  },
  {
   "cell_type": "code",
   "execution_count": 48,
   "id": "8cb02119-5339-4b9e-9122-a72e8cb968b7",
   "metadata": {},
   "outputs": [],
   "source": [
    "counter = Counter()\n",
    "paths = {}\n",
    "for dir in raw_data_dirs:\n",
    "    for file in Path(dir).rglob(\"*\"):\n",
    "        if file.is_file():\n",
    "            doc_format = file.suffix.lower() if file.suffix else \"no_extension\"\n",
    "            counter[doc_format]+=1\n",
    "            list_of_paths = paths.get(doc_format,[])\n",
    "            list_of_paths.append(str(file))\n",
    "            paths[doc_format] = list_of_paths"
   ]
  },
  {
   "cell_type": "code",
   "execution_count": 52,
   "id": "52c33055-6ee6-4ccc-9837-5ad7b0871471",
   "metadata": {},
   "outputs": [
    {
     "data": {
      "text/html": [
       "<div>\n",
       "<style scoped>\n",
       "    .dataframe tbody tr th:only-of-type {\n",
       "        vertical-align: middle;\n",
       "    }\n",
       "\n",
       "    .dataframe tbody tr th {\n",
       "        vertical-align: top;\n",
       "    }\n",
       "\n",
       "    .dataframe thead th {\n",
       "        text-align: right;\n",
       "    }\n",
       "</style>\n",
       "<table border=\"1\" class=\"dataframe\">\n",
       "  <thead>\n",
       "    <tr style=\"text-align: right;\">\n",
       "      <th></th>\n",
       "      <th>Document Format</th>\n",
       "      <th>Document Count</th>\n",
       "    </tr>\n",
       "  </thead>\n",
       "  <tbody>\n",
       "    <tr>\n",
       "      <th>0</th>\n",
       "      <td>.ris</td>\n",
       "      <td>2</td>\n",
       "    </tr>\n",
       "    <tr>\n",
       "      <th>1</th>\n",
       "      <td>.html</td>\n",
       "      <td>43</td>\n",
       "    </tr>\n",
       "    <tr>\n",
       "      <th>2</th>\n",
       "      <td>.pdf</td>\n",
       "      <td>253</td>\n",
       "    </tr>\n",
       "    <tr>\n",
       "      <th>3</th>\n",
       "      <td>no_extension</td>\n",
       "      <td>2</td>\n",
       "    </tr>\n",
       "    <tr>\n",
       "      <th>4</th>\n",
       "      <td>.docx</td>\n",
       "      <td>1</td>\n",
       "    </tr>\n",
       "  </tbody>\n",
       "</table>\n",
       "</div>"
      ],
      "text/plain": [
       "  Document Format  Document Count\n",
       "0            .ris               2\n",
       "1           .html              43\n",
       "2            .pdf             253\n",
       "3    no_extension               2\n",
       "4           .docx               1"
      ]
     },
     "execution_count": 52,
     "metadata": {},
     "output_type": "execute_result"
    }
   ],
   "source": [
    "documents_summary_df = pd.DataFrame(counter.items(), columns=[\"Document Format\", \"Document Count\"])\n",
    "documents_summary_df"
   ]
  },
  {
   "cell_type": "code",
   "execution_count": 63,
   "id": "e19e465c-9ea9-4760-898f-f1154b45dadc",
   "metadata": {},
   "outputs": [
    {
     "name": "stdout",
     "output_type": "stream",
     "text": [
      "Total Document Count: 297\n"
     ]
    }
   ],
   "source": [
    "valid_extensions = ['.html','.pdf','.docx']\n",
    "metadata_extension = ['.ris']\n",
    "total_documents = documents_summary_df[documents_summary_df[\"Document Format\"].isin(valid_extensions)][\"Document Count\"].sum()\n",
    "\n",
    "print(f\"Total Document Count: {total_documents}\")"
   ]
  }
 ],
 "metadata": {
  "kernelspec": {
   "display_name": "Python-QSRR",
   "language": "python",
   "name": "qsrr"
  },
  "language_info": {
   "codemirror_mode": {
    "name": "ipython",
    "version": 3
   },
   "file_extension": ".py",
   "mimetype": "text/x-python",
   "name": "python",
   "nbconvert_exporter": "python",
   "pygments_lexer": "ipython3",
   "version": "3.9.12"
  },
  "widgets": {
   "application/vnd.jupyter.widget-state+json": {
    "state": {},
    "version_major": 2,
    "version_minor": 0
   }
  }
 },
 "nbformat": 4,
 "nbformat_minor": 5
}
