{
 "cells": [
  {
   "cell_type": "code",
   "execution_count": 63,
   "id": "be5d8d37-097d-4336-90be-61e907a41098",
   "metadata": {},
   "outputs": [],
   "source": [
    "import os\n",
    "from collections import Counter\n",
    "from pathlib import Path\n",
    "import pandas as pd"
   ]
  },
  {
   "cell_type": "code",
   "execution_count": 64,
   "id": "9e95cc41-e13a-4242-8d1f-5deee5839e52",
   "metadata": {},
   "outputs": [],
   "source": [
    "raw_data_path = '../raw_data/'\n",
    "raw_data_dir_names = ['ethan', 'sai']\n",
    "raw_data_dirs = [raw_data_path+raw_data_dir_name for raw_data_dir_name in raw_data_dir_names]"
   ]
  },
  {
   "cell_type": "code",
   "execution_count": 65,
   "id": "01cedf9e-fcc4-4b12-b007-20860c187b18",
   "metadata": {},
   "outputs": [],
   "source": [
    "counter = Counter()\n",
    "paths = {}\n",
    "for dir in raw_data_dirs:\n",
    "    for file in Path(dir).rglob(\"*\"):\n",
    "        if file.is_file():\n",
    "            doc_format = file.suffix.lower() if file.suffix else \"no_extension\"\n",
    "            counter[doc_format]+=1\n",
    "            list_of_paths = paths.get(doc_format,[])\n",
    "            list_of_paths.append(file)\n",
    "            paths[doc_format] = list_of_paths"
   ]
  },
  {
   "cell_type": "code",
   "execution_count": 66,
   "id": "39351e05-b4c6-4733-9124-8e4d3acd671b",
   "metadata": {},
   "outputs": [
    {
     "data": {
      "text/html": [
       "<div>\n",
       "<style scoped>\n",
       "    .dataframe tbody tr th:only-of-type {\n",
       "        vertical-align: middle;\n",
       "    }\n",
       "\n",
       "    .dataframe tbody tr th {\n",
       "        vertical-align: top;\n",
       "    }\n",
       "\n",
       "    .dataframe thead th {\n",
       "        text-align: right;\n",
       "    }\n",
       "</style>\n",
       "<table border=\"1\" class=\"dataframe\">\n",
       "  <thead>\n",
       "    <tr style=\"text-align: right;\">\n",
       "      <th></th>\n",
       "      <th>Document Format</th>\n",
       "      <th>Document Count</th>\n",
       "    </tr>\n",
       "  </thead>\n",
       "  <tbody>\n",
       "    <tr>\n",
       "      <th>0</th>\n",
       "      <td>.ris</td>\n",
       "      <td>2</td>\n",
       "    </tr>\n",
       "    <tr>\n",
       "      <th>1</th>\n",
       "      <td>.html</td>\n",
       "      <td>43</td>\n",
       "    </tr>\n",
       "    <tr>\n",
       "      <th>2</th>\n",
       "      <td>.pdf</td>\n",
       "      <td>253</td>\n",
       "    </tr>\n",
       "    <tr>\n",
       "      <th>3</th>\n",
       "      <td>no_extension</td>\n",
       "      <td>2</td>\n",
       "    </tr>\n",
       "    <tr>\n",
       "      <th>4</th>\n",
       "      <td>.docx</td>\n",
       "      <td>1</td>\n",
       "    </tr>\n",
       "  </tbody>\n",
       "</table>\n",
       "</div>"
      ],
      "text/plain": [
       "  Document Format  Document Count\n",
       "0            .ris               2\n",
       "1           .html              43\n",
       "2            .pdf             253\n",
       "3    no_extension               2\n",
       "4           .docx               1"
      ]
     },
     "execution_count": 66,
     "metadata": {},
     "output_type": "execute_result"
    }
   ],
   "source": [
    "documents_summary_df = pd.DataFrame(counter.items(), columns=[\"Document Format\", \"Document Count\"])\n",
    "documents_summary_df"
   ]
  },
  {
   "cell_type": "code",
   "execution_count": 67,
   "id": "33b1c35d-1e95-4075-a03f-c08c497d80a4",
   "metadata": {},
   "outputs": [
    {
     "name": "stdout",
     "output_type": "stream",
     "text": [
      "Total Document Count: 297\n"
     ]
    }
   ],
   "source": [
    "valid_extensions = ['.html','.pdf','.docx']\n",
    "metadata_extension = ['.ris']\n",
    "total_documents = documents_summary_df[documents_summary_df[\"Document Format\"].isin(valid_extensions)][\"Document Count\"].sum()\n",
    "\n",
    "print(f\"Total Document Count: {total_documents}\")"
   ]
  },
  {
   "cell_type": "code",
   "execution_count": 68,
   "id": "9b640a63-04e6-46c5-9c32-991dc5bfe41f",
   "metadata": {},
   "outputs": [
    {
     "data": {
      "text/html": [
       "<div>\n",
       "<style scoped>\n",
       "    .dataframe tbody tr th:only-of-type {\n",
       "        vertical-align: middle;\n",
       "    }\n",
       "\n",
       "    .dataframe tbody tr th {\n",
       "        vertical-align: top;\n",
       "    }\n",
       "\n",
       "    .dataframe thead th {\n",
       "        text-align: right;\n",
       "    }\n",
       "</style>\n",
       "<table border=\"1\" class=\"dataframe\">\n",
       "  <thead>\n",
       "    <tr style=\"text-align: right;\">\n",
       "      <th></th>\n",
       "      <th>Title</th>\n",
       "      <th>URL</th>\n",
       "      <th>L1</th>\n",
       "      <th>L2</th>\n",
       "    </tr>\n",
       "  </thead>\n",
       "  <tbody>\n",
       "    <tr>\n",
       "      <th>0</th>\n",
       "      <td>Spatial Autocorrelation in Mass Spectrometry I...</td>\n",
       "      <td>https://doi.org/10.1021/acs.analchem.6b00672</td>\n",
       "      <td>https://pubs.acs.org/doi/pdf/10.1021/acs.analc...</td>\n",
       "      <td></td>\n",
       "    </tr>\n",
       "    <tr>\n",
       "      <th>1</th>\n",
       "      <td>Probabilistic Segmentation of Mass Spectrometr...</td>\n",
       "      <td>https://www.sciencedirect.com/science/article/...</td>\n",
       "      <td>http://www.mcponline.org/article/S153594762033...</td>\n",
       "      <td>https://www-sciencedirect-com.ezproxy.neu.edu/...</td>\n",
       "    </tr>\n",
       "    <tr>\n",
       "      <th>2</th>\n",
       "      <td>A noise-robust deep clustering of biomolecular...</td>\n",
       "      <td>https://doi.org/10.1093/bioinformatics/btad067</td>\n",
       "      <td>https://academic.oup.com/bioinformatics/articl...</td>\n",
       "      <td>https://academic.oup.com/bioinformatics/articl...</td>\n",
       "    </tr>\n",
       "    <tr>\n",
       "      <th>3</th>\n",
       "      <td>Prioritization of m/z-Values in Mass Spectrome...</td>\n",
       "      <td>https://doi.org/10.1021/acs.analchem.9b05764</td>\n",
       "      <td>https://pubs.acs.org/doi/pdf/10.1021/acs.analc...</td>\n",
       "      <td></td>\n",
       "    </tr>\n",
       "    <tr>\n",
       "      <th>4</th>\n",
       "      <td>Diagnostic biomarkers in knee osteoarthritis: ...</td>\n",
       "      <td>https://doi.org/10.1177/10225536241267027</td>\n",
       "      <td>https://journals.sagepub.com/doi/pdf/10.1177/1...</td>\n",
       "      <td></td>\n",
       "    </tr>\n",
       "  </tbody>\n",
       "</table>\n",
       "</div>"
      ],
      "text/plain": [
       "                                               Title  \\\n",
       "0  Spatial Autocorrelation in Mass Spectrometry I...   \n",
       "1  Probabilistic Segmentation of Mass Spectrometr...   \n",
       "2  A noise-robust deep clustering of biomolecular...   \n",
       "3  Prioritization of m/z-Values in Mass Spectrome...   \n",
       "4  Diagnostic biomarkers in knee osteoarthritis: ...   \n",
       "\n",
       "                                                 URL  \\\n",
       "0       https://doi.org/10.1021/acs.analchem.6b00672   \n",
       "1  https://www.sciencedirect.com/science/article/...   \n",
       "2     https://doi.org/10.1093/bioinformatics/btad067   \n",
       "3       https://doi.org/10.1021/acs.analchem.9b05764   \n",
       "4          https://doi.org/10.1177/10225536241267027   \n",
       "\n",
       "                                                  L1  \\\n",
       "0  https://pubs.acs.org/doi/pdf/10.1021/acs.analc...   \n",
       "1  http://www.mcponline.org/article/S153594762033...   \n",
       "2  https://academic.oup.com/bioinformatics/articl...   \n",
       "3  https://pubs.acs.org/doi/pdf/10.1021/acs.analc...   \n",
       "4  https://journals.sagepub.com/doi/pdf/10.1177/1...   \n",
       "\n",
       "                                                  L2  \n",
       "0                                                     \n",
       "1  https://www-sciencedirect-com.ezproxy.neu.edu/...  \n",
       "2  https://academic.oup.com/bioinformatics/articl...  \n",
       "3                                                     \n",
       "4                                                     "
      ]
     },
     "execution_count": 68,
     "metadata": {},
     "output_type": "execute_result"
    }
   ],
   "source": [
    "import re\n",
    "import pandas as pd\n",
    "\n",
    "metadata_dict = {\n",
    "    \"Title\":[],\n",
    "    \"URL\":[],\n",
    "    \"L1\":[],\n",
    "    \"L2\":[]\n",
    "}\n",
    "title_pattern = \"^TI.+\"\n",
    "url_pattern = \"^UR.+\"\n",
    "l1_pattern = \"^L1.+\"\n",
    "l2_pattern = \"^L2.+\"\n",
    "for path in paths[\".ris\"]:\n",
    "    with open(path, \"r\", encoding=\"utf-8\") as f:\n",
    "        metadata_str = f.read()\n",
    "        publications = metadata_str.split(\"\\n\\n\")\n",
    "        for publication in publications:\n",
    "            title = \"\"\n",
    "            url = \"\"\n",
    "            l1 = \"\"\n",
    "            l2 = \"\"\n",
    "            title_match = re.search(title_pattern, publication, re.MULTILINE)\n",
    "            if title_match:\n",
    "                title = title_match[0].split(\" - \")[-1]\n",
    "            titles = metadata_dict.get(\"Title\")\n",
    "            titles.append(title)\n",
    "            metadata_dict[\"Title\"] = titles\n",
    "            url_match = re.search(url_pattern, publication, re.MULTILINE)\n",
    "            if url_match:\n",
    "                url = url_match[0].split(\" - \")[-1]\n",
    "            urls = metadata_dict.get(\"URL\")\n",
    "            urls.append(url)\n",
    "            metadata_dict[\"URL\"] = urls\n",
    "            l1_match = re.search(l1_pattern, publication, re.MULTILINE)\n",
    "            if l1_match:\n",
    "                l1 = l1_match[0].split(\" - \")[-1]\n",
    "            l1s = metadata_dict.get(\"L1\")\n",
    "            l1s.append(l1)\n",
    "            metadata_dict[\"L1\"] = l1s\n",
    "            l2_match = re.search(l2_pattern, publication, re.MULTILINE)\n",
    "            if l2_match:\n",
    "                l2 = l2_match[0].split(\" - \")[-1]\n",
    "            l2s = metadata_dict.get(\"L2\")\n",
    "            l2s.append(l2)\n",
    "            metadata_dict[\"L2\"] = l2s\n",
    "metadata_df = pd.DataFrame(metadata_dict)\n",
    "metadata_df.head()"
   ]
  },
  {
   "cell_type": "code",
   "execution_count": 97,
   "id": "afbf8d5c-250e-4861-8c1b-d8e521ffc5b3",
   "metadata": {},
   "outputs": [],
   "source": [
    "metadata_df.to_csv(\"publication_urls.csv\")"
   ]
  },
  {
   "cell_type": "code",
   "execution_count": 85,
   "id": "57325246-b0be-4585-8cfa-796f57449b2e",
   "metadata": {},
   "outputs": [],
   "source": [
    "def get_suffix(path):\n",
    "    return path.stem"
   ]
  },
  {
   "cell_type": "code",
   "execution_count": 94,
   "id": "63cfa07f-c37c-47db-a2b6-79f1207d83cc",
   "metadata": {},
   "outputs": [],
   "source": [
    "titles_from_path = set(list(map(lambda x: get_suffix(x), paths['.pdf'],)) + list(map(lambda x: get_suffix(x), paths['.html'],)) + list(map(lambda x: get_suffix(x), paths['.docx'],)))"
   ]
  },
  {
   "cell_type": "code",
   "execution_count": 95,
   "id": "bd202bfd-4db0-41e7-8801-b635c877f170",
   "metadata": {},
   "outputs": [],
   "source": [
    "titles_from_metadata =set(metadata_df['Title'])"
   ]
  },
  {
   "cell_type": "code",
   "execution_count": 96,
   "id": "f0e78ed1-3abb-4982-9ae7-a25255a1dd9e",
   "metadata": {},
   "outputs": [
    {
     "data": {
      "text/plain": [
       "{'4.0 Image Gradients and Gradient Filtering'}"
      ]
     },
     "execution_count": 96,
     "metadata": {},
     "output_type": "execute_result"
    }
   ],
   "source": [
    "titles_from_path.intersection(titles_from_metadata)"
   ]
  }
 ],
 "metadata": {
  "kernelspec": {
   "display_name": "Python-QSRR",
   "language": "python",
   "name": "qsrr"
  },
  "language_info": {
   "codemirror_mode": {
    "name": "ipython",
    "version": 3
   },
   "file_extension": ".py",
   "mimetype": "text/x-python",
   "name": "python",
   "nbconvert_exporter": "python",
   "pygments_lexer": "ipython3",
   "version": "3.9.12"
  },
  "widgets": {
   "application/vnd.jupyter.widget-state+json": {
    "state": {},
    "version_major": 2,
    "version_minor": 0
   }
  }
 },
 "nbformat": 4,
 "nbformat_minor": 5
}
